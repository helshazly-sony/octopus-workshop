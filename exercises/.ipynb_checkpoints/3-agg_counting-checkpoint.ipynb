{
 "cells": [
  {
   "cell_type": "code",
   "execution_count": 1,
   "id": "0d75b499-3cb6-49a9-acd8-a9bfdd5dd942",
   "metadata": {
    "scrolled": true
   },
   "outputs": [
    {
     "ename": "ModuleNotFoundError",
     "evalue": "No module named 'octopus_platform'",
     "output_type": "error",
     "traceback": [
      "\u001b[0;31m---------------------------------------------------------------------------\u001b[0m",
      "\u001b[0;31mModuleNotFoundError\u001b[0m                       Traceback (most recent call last)",
      "Cell \u001b[0;32mIn[1], line 1\u001b[0m\n\u001b[0;32m----> 1\u001b[0m \u001b[38;5;28;01mfrom\u001b[39;00m \u001b[38;5;21;01moctopus_platform\u001b[39;00m \u001b[38;5;28;01mimport\u001b[39;00m OctopusClient\n\u001b[1;32m      3\u001b[0m \u001b[38;5;28;01mimport\u001b[39;00m \u001b[38;5;21;01mnetworkx\u001b[39;00m \u001b[38;5;28;01mas\u001b[39;00m \u001b[38;5;21;01mnx\u001b[39;00m\n",
      "\u001b[0;31mModuleNotFoundError\u001b[0m: No module named 'octopus_platform'"
     ]
    }
   ],
   "source": [
    "from octopus_platform import OctopusClient\n",
    "\n",
    "import networkx as nx"
   ]
  },
  {
   "cell_type": "code",
   "execution_count": 12,
   "id": "c5ede368-fd1e-4c96-9952-d49a8c198590",
   "metadata": {},
   "outputs": [],
   "source": [
    "def build_nx_graph():\n",
    "    \"\"\"\n",
    "    Builds and returns networkx graph for Movies.\n",
    "\n",
    "    Parameters : \n",
    "    None\n",
    "\n",
    "    Returns : \n",
    "    networkx graph object\n",
    "        A networkx graph object of Movies\n",
    "    \"\"\"\n",
    "    import csv \n",
    "    \n",
    "    movies_csv_path = \"../utils/movies.csv\"\n",
    "    G = nx.Graph()\n",
    "\n",
    "    with open(movies_csv_path, 'r', newline='', encoding='utf-8') as csvfile:\n",
    "        reader = csv.reader(csvfile)\n",
    "        next(reader)\n",
    "        for row in reader:\n",
    "            # Check if it's a node or relationship\n",
    "            if row[0]:  # Node\n",
    "                #print(row[0])\n",
    "                node_type = row[1].split(\":\")[1]  # Extract node type from labels\n",
    "                if node_type == \"Person\":\n",
    "                    G.add_node(row[0], label=\"Person\", born=row[2], name=remove_escape_quotes(row[3]))\n",
    "                elif node_type == \"Movie\":\n",
    "                    G.add_node(row[0], label=\"Movie\", released=row[4], tagline=remove_escape_quotes(row[5]), title=remove_escape_quotes(row[6]))\n",
    "            else:  # Relationship\n",
    "                rel_type = row[9]\n",
    "                if rel_type == \"ACTED_IN\":\n",
    "                    G.add_edge(row[7], row[8], label=\"ACTED_IN\", rating=remove_escape_quotes(row[10]), roles=remove_escape_quotes(row[11]))\n",
    "                elif rel_type == \"WROTE\":\n",
    "                    G.add_edge(row[7], row[8], label=\"WROTE\")\n",
    "                elif rel_type == \"PRODUCED\":\n",
    "                    G.add_edge(row[7], row[8], label=\"PRODUCED\")\n",
    "                elif rel_type == \"DIRECTED\":\n",
    "                    G.add_edge(row[7], row[8], label=\"DIRECTED\")\n",
    "                elif rel_type == \"REVIEWED\":\n",
    "                    G.add_edge(row[7], row[8], label=\"REVIEWED\", rating=remove_escape_quotes(row[10]), summary=remove_escape_quotes(row[11]))\n",
    "\n",
    "    return G\n",
    "    "
   ]
  },
  {
   "cell_type": "code",
   "execution_count": 3,
   "id": "1780a827-ccb0-4579-a032-5265a542d8b8",
   "metadata": {},
   "outputs": [],
   "source": [
    "def task_1_nx(nx_graph):\n",
    "    \"\"\"\n",
    "    Using networkx library, recommend new actors for \"Tom Hanks\". \n",
    "    Find connections past an immediate neighborhood that are themselves well connected\n",
    "\n",
    "    Parameters:\n",
    "    nx_graph : networkx object\n",
    "       Movies graph\n",
    "    \n",
    "    Returns :\n",
    "    None\n",
    "    \"\"\"\n",
    "    pass"
   ]
  },
  {
   "cell_type": "code",
   "execution_count": 4,
   "id": "fda346ae-ef7e-4d48-84cd-50bdf7aa2bef",
   "metadata": {},
   "outputs": [],
   "source": [
    "def task_1_octopus():\n",
    "    \"\"\"\n",
    "    Using Octopus, ecommend new actors for \"Tom Hanks\". \n",
    "    Find connections past an immediate neighborhood that are themselves well connected\n",
    "    \n",
    "    Parameters:\n",
    "    None\n",
    "    \n",
    "    Returns :\n",
    "    None\n",
    "    \"\"\"\n",
    "    pass"
   ]
  },
  {
   "cell_type": "code",
   "execution_count": 13,
   "id": "f1f6b03c-9c8b-4ecf-af95-6ae25b63cd6c",
   "metadata": {},
   "outputs": [
    {
     "ename": "NameError",
     "evalue": "name 'nx' is not defined",
     "output_type": "error",
     "traceback": [
      "\u001b[0;31m---------------------------------------------------------------------------\u001b[0m",
      "\u001b[0;31mNameError\u001b[0m                                 Traceback (most recent call last)",
      "Cell \u001b[0;32mIn[13], line 2\u001b[0m\n\u001b[1;32m      1\u001b[0m \u001b[38;5;28;01mif\u001b[39;00m \u001b[38;5;18m__name__\u001b[39m \u001b[38;5;241m==\u001b[39m \u001b[38;5;124m\"\u001b[39m\u001b[38;5;124m__main__\u001b[39m\u001b[38;5;124m\"\u001b[39m:\n\u001b[0;32m----> 2\u001b[0m     \u001b[43mbuild_nx_graph\u001b[49m\u001b[43m(\u001b[49m\u001b[43m)\u001b[49m\n",
      "Cell \u001b[0;32mIn[12], line 15\u001b[0m, in \u001b[0;36mbuild_nx_graph\u001b[0;34m()\u001b[0m\n\u001b[1;32m     12\u001b[0m \u001b[38;5;28;01mimport\u001b[39;00m \u001b[38;5;21;01mcsv\u001b[39;00m \n\u001b[1;32m     14\u001b[0m movies_csv_path \u001b[38;5;241m=\u001b[39m \u001b[38;5;124m\"\u001b[39m\u001b[38;5;124m../utils/movies.csv\u001b[39m\u001b[38;5;124m\"\u001b[39m\n\u001b[0;32m---> 15\u001b[0m G \u001b[38;5;241m=\u001b[39m \u001b[43mnx\u001b[49m\u001b[38;5;241m.\u001b[39mGraph()\n\u001b[1;32m     17\u001b[0m \u001b[38;5;28;01mwith\u001b[39;00m \u001b[38;5;28mopen\u001b[39m(movies_csv_path, \u001b[38;5;124m'\u001b[39m\u001b[38;5;124mr\u001b[39m\u001b[38;5;124m'\u001b[39m, newline\u001b[38;5;241m=\u001b[39m\u001b[38;5;124m'\u001b[39m\u001b[38;5;124m'\u001b[39m, encoding\u001b[38;5;241m=\u001b[39m\u001b[38;5;124m'\u001b[39m\u001b[38;5;124mutf-8\u001b[39m\u001b[38;5;124m'\u001b[39m) \u001b[38;5;28;01mas\u001b[39;00m csvfile:\n\u001b[1;32m     18\u001b[0m     reader \u001b[38;5;241m=\u001b[39m csv\u001b[38;5;241m.\u001b[39mreader(csvfile)\n",
      "\u001b[0;31mNameError\u001b[0m: name 'nx' is not defined"
     ]
    }
   ],
   "source": [
    "if __name__ == \"__main__\":\n",
    "    # Build Networkx Graph\n",
    "    build_nx_graph()\n",
    "    \n",
    "    # Task-1\n",
    "    #print(\"Task-1: Recommend new co-actors for Tom Hanks.\")\n",
    "    #print(\"networkx:\")\n",
    "    #task_1_nx()\n",
    "    #print(\"Octopus:\")\n",
    "    #task_1_octopus()\n"
   ]
  },
  {
   "cell_type": "code",
   "execution_count": null,
   "id": "0ffe70ae-d946-4553-a8f5-ab206686fd77",
   "metadata": {},
   "outputs": [],
   "source": []
  }
 ],
 "metadata": {
  "kernelspec": {
   "display_name": "Python 3 (ipykernel)",
   "language": "python",
   "name": "python3"
  },
  "language_info": {
   "codemirror_mode": {
    "name": "ipython",
    "version": 3
   },
   "file_extension": ".py",
   "mimetype": "text/x-python",
   "name": "python",
   "nbconvert_exporter": "python",
   "pygments_lexer": "ipython3",
   "version": "3.9.2"
  }
 },
 "nbformat": 4,
 "nbformat_minor": 5
}
