{
 "cells": [
  {
   "cell_type": "code",
   "execution_count": null,
   "id": "0d75b499-3cb6-49a9-acd8-a9bfdd5dd942",
   "metadata": {},
   "outputs": [],
   "source": [
    "from octopus_platform import OctopusClient\n",
    "\n",
    "import networkx as nx"
   ]
  },
  {
   "cell_type": "code",
   "execution_count": null,
   "id": "c5ede368-fd1e-4c96-9952-d49a8c198590",
   "metadata": {},
   "outputs": [],
   "source": [
    "def build_nx_graph():\n",
    "    \"\"\"\n",
    "    Builds and returns networkx graph for Movies.\n",
    "\n",
    "    Parameters : \n",
    "    None\n",
    "\n",
    "    Returns : \n",
    "    networkx graph object\n",
    "        A networkx graph object of Movies\n",
    "    \"\"\"\n",
    "    \n",
    "    movies_csv_path = \"\"\n",
    "    pass"
   ]
  },
  {
   "cell_type": "code",
   "execution_count": null,
   "id": "1780a827-ccb0-4579-a032-5265a542d8b8",
   "metadata": {},
   "outputs": [],
   "source": [
    "def task_1_nx(nx_graph):\n",
    "    \"\"\"\n",
    "    Using networkx library, find the actor named \"Tom Hanks\".\n",
    "\n",
    "    Parameters:\n",
    "    nx_graph : networkx object\n",
    "       Movies graph\n",
    "    \n",
    "    Returns :\n",
    "    None\n",
    "    \"\"\"\n",
    "    pass"
   ]
  },
  {
   "cell_type": "code",
   "execution_count": null,
   "id": "fda346ae-ef7e-4d48-84cd-50bdf7aa2bef",
   "metadata": {},
   "outputs": [],
   "source": [
    "def task_1_octopus():\n",
    "    \"\"\"\n",
    "    Using Octopus, find the actor named \"Tom Hanks\".\n",
    "\n",
    "    Parameters:\n",
    "    None\n",
    "    \n",
    "    Returns :\n",
    "    None\n",
    "    \"\"\"\n",
    "    pass"
   ]
  },
  {
   "cell_type": "code",
   "execution_count": null,
   "id": "93803dc4-2e04-401c-ad1e-371651e6cc39",
   "metadata": {},
   "outputs": [],
   "source": [
    "def task_2_nx(nx_graph):\n",
    "    \"\"\"\n",
    "    Using networkx library, find all movies released in the 90s and print their titles.\n",
    "\n",
    "    Parameters:\n",
    "    nx_graph : networkx object\n",
    "       Movies graph\n",
    "    \n",
    "    Returns :\n",
    "    None\n",
    "    \"\"\"\n",
    "    pass    "
   ]
  },
  {
   "cell_type": "code",
   "execution_count": null,
   "id": "c83659e6-943b-4144-9038-e5cd4ee58417",
   "metadata": {},
   "outputs": [],
   "source": [
    "def task_2_octopus():\n",
    "    \"\"\"\n",
    "    Using Octopus, find all movies released in the 90s and print their titles.\n",
    "\n",
    "    Parameters:\n",
    "    None\n",
    "    \n",
    "    Returns :\n",
    "    None\n",
    "    \"\"\"\n",
    "    pass    "
   ]
  },
  {
   "cell_type": "code",
   "execution_count": null,
   "id": "bfec99b5-4b4f-4655-bc8c-118accfd5e59",
   "metadata": {},
   "outputs": [],
   "source": [
    "def task_3_nx(nx_graph):\n",
    "    \"\"\"\n",
    "    Using networkx library, find how people are related to the movie \"Cloud Atlas\".\n",
    "\n",
    "    Parameters:\n",
    "    nx_graph : networkx object\n",
    "       Movies graph\n",
    "    \n",
    "    Returns :\n",
    "    None\n",
    "    \"\"\"\n",
    "    pass    "
   ]
  },
  {
   "cell_type": "code",
   "execution_count": null,
   "id": "690cc760-71fe-4b44-9437-e5e0ae28c2c6",
   "metadata": {},
   "outputs": [],
   "source": [
    "def task_3_octopus(nx_graph):\n",
    "    \"\"\"\n",
    "    Using Octopus, find how people are related to the movie \"Cloud Atlas\".\n",
    "\n",
    "    Parameters:\n",
    "    None\n",
    "    \n",
    "    Returns :\n",
    "    None\n",
    "    \"\"\"\n",
    "    pass    "
   ]
  },
  {
   "cell_type": "code",
   "execution_count": 1,
   "id": "f1f6b03c-9c8b-4ecf-af95-6ae25b63cd6c",
   "metadata": {},
   "outputs": [
    {
     "ename": "IndentationError",
     "evalue": "expected an indented block (212376913.py, line 2)",
     "output_type": "error",
     "traceback": [
      "\u001b[0;36m  Cell \u001b[0;32mIn[1], line 2\u001b[0;36m\u001b[0m\n\u001b[0;31m    #build_nx_graph()\u001b[0m\n\u001b[0m                     ^\u001b[0m\n\u001b[0;31mIndentationError\u001b[0m\u001b[0;31m:\u001b[0m expected an indented block\n"
     ]
    }
   ],
   "source": [
    "if __name__ == \"__main__\":\n",
    "    # Build networkx graph.\n",
    "    build_nx_graph()\n",
    "\n",
    "    # Task-1\n",
    "    #print(\"Task-1: Find the actor named \\\"Tom Hanks\\\"\")\n",
    "    #print(\"networkx:\")\n",
    "    #task_1_nx()\n",
    "    #print(\"Octopus:\")\n",
    "    #task_1_octopus()\n",
    "\n",
    "    # Task-2\n",
    "    #print(\"Task-2: Find movies released in the 90s and return their titles\")\n",
    "    #print(\"networkx:\")\n",
    "    #task_2_nx()\n",
    "    #print(\"Octopus:\")\n",
    "    #task_2_octopus()\n",
    "\n",
    "    # Task-3\n",
    "    #print(\"Task-3: How people are related to \\\"Cloud Atlas\\\"?\")\n",
    "    #print(\"networkx:\")\n",
    "    #task_3_nx()\n",
    "    #print(\"Octopus:\")\n",
    "    #task_3_octopus()    \n",
    "    "
   ]
  },
  {
   "cell_type": "code",
   "execution_count": null,
   "id": "3e1d67c0-751f-48be-b8e0-7fc2147a90ae",
   "metadata": {},
   "outputs": [],
   "source": []
  }
 ],
 "metadata": {
  "kernelspec": {
   "display_name": "Python 3 (ipykernel)",
   "language": "python",
   "name": "python3"
  },
  "language_info": {
   "codemirror_mode": {
    "name": "ipython",
    "version": 3
   },
   "file_extension": ".py",
   "mimetype": "text/x-python",
   "name": "python",
   "nbconvert_exporter": "python",
   "pygments_lexer": "ipython3",
   "version": "3.9.2"
  }
 },
 "nbformat": 4,
 "nbformat_minor": 5
}
